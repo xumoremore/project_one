{
 "cells": [
  {
   "cell_type": "code",
   "execution_count": 4,
   "metadata": {},
   "outputs": [
    {
     "name": "stdout",
     "output_type": "stream",
     "text": [
      "预测值存在小于零：|Empty DataFrame\n",
      "Columns: [SaleID, price]\n",
      "Index: []|\n",
      "预测值存在大于99999：|      SaleID         price\n",
      "9264  209264  125324.74797|\n"
     ]
    },
    {
     "name": "stderr",
     "output_type": "stream",
     "text": [
      "D:\\Anaconda3\\envs\\dev3\\lib\\site-packages\\ipykernel_launcher.py:13: SettingWithCopyWarning: \n",
      "A value is trying to be set on a copy of a slice from a DataFrame\n",
      "\n",
      "See the caveats in the documentation: https://pandas.pydata.org/pandas-docs/stable/user_guide/indexing.html#returning-a-view-versus-a-copy\n",
      "  del sys.path[0]\n",
      "D:\\Anaconda3\\envs\\dev3\\lib\\site-packages\\ipykernel_launcher.py:14: SettingWithCopyWarning: \n",
      "A value is trying to be set on a copy of a slice from a DataFrame\n",
      "\n",
      "See the caveats in the documentation: https://pandas.pydata.org/pandas-docs/stable/user_guide/indexing.html#returning-a-view-versus-a-copy\n",
      "  \n"
     ]
    },
    {
     "data": {
      "text/html": [
       "<div>\n",
       "<style scoped>\n",
       "    .dataframe tbody tr th:only-of-type {\n",
       "        vertical-align: middle;\n",
       "    }\n",
       "\n",
       "    .dataframe tbody tr th {\n",
       "        vertical-align: top;\n",
       "    }\n",
       "\n",
       "    .dataframe thead th {\n",
       "        text-align: right;\n",
       "    }\n",
       "</style>\n",
       "<table border=\"1\" class=\"dataframe\">\n",
       "  <thead>\n",
       "    <tr style=\"text-align: right;\">\n",
       "      <th></th>\n",
       "      <th>SaleID</th>\n",
       "      <th>price</th>\n",
       "    </tr>\n",
       "  </thead>\n",
       "  <tbody>\n",
       "    <tr>\n",
       "      <th>0</th>\n",
       "      <td>200000</td>\n",
       "      <td>1262.649420</td>\n",
       "    </tr>\n",
       "    <tr>\n",
       "      <th>1</th>\n",
       "      <td>200001</td>\n",
       "      <td>1987.030786</td>\n",
       "    </tr>\n",
       "    <tr>\n",
       "      <th>2</th>\n",
       "      <td>200002</td>\n",
       "      <td>8623.463058</td>\n",
       "    </tr>\n",
       "    <tr>\n",
       "      <th>3</th>\n",
       "      <td>200003</td>\n",
       "      <td>1177.473609</td>\n",
       "    </tr>\n",
       "    <tr>\n",
       "      <th>4</th>\n",
       "      <td>200004</td>\n",
       "      <td>1998.402130</td>\n",
       "    </tr>\n",
       "  </tbody>\n",
       "</table>\n",
       "</div>"
      ],
      "text/plain": [
       "   SaleID        price\n",
       "0  200000  1262.649420\n",
       "1  200001  1987.030786\n",
       "2  200002  8623.463058\n",
       "3  200003  1177.473609\n",
       "4  200004  1998.402130"
      ]
     },
     "execution_count": 4,
     "metadata": {},
     "output_type": "execute_result"
    }
   ],
   "source": [
    "import pandas as pd\n",
    "\n",
    "\n",
    "def result_voting(**kwarg):\n",
    "    df_voting = pd.DataFrame({'SaleID':range(200000, 250000),\n",
    "                              'price':[0]*50000})\n",
    "    for _, path in kwarg.items():\n",
    "        df_result = pd.read_csv(path)\n",
    "        df_result.sort_values(by='SaleID')\n",
    "        df_voting['price'] += df_result['price']/len(kwarg)\n",
    "    print(\"预测值存在小于零：|{}|\".format(df_voting[df_voting['price']<0]))\n",
    "    print(\"预测值存在大于99999：|{}|\".format(df_voting[df_voting['price']>99999]))\n",
    "    df_voting['price'][df_voting['price']<0] = 11\n",
    "    df_voting['price'][df_voting['price']>99999] = 999999\n",
    "    return df_voting\n",
    "    \n",
    "lgb_result_path = 'lgb_v10_K5_LineMae448_result.csv'\n",
    "fcn_result_path = 'fcn_result_430_LineMae417.csv'\n",
    "voting_result_path = 'voting_result.csv'\n",
    "\n",
    "voting_result = result_voting(result1=lgb_result_path,\n",
    "                             result2=fcn_result_path,)\n",
    "voting_result.to_csv(voting_result_path, index=False)\n",
    "voting_result.head()"
   ]
  },
  {
   "cell_type": "code",
   "execution_count": null,
   "metadata": {},
   "outputs": [],
   "source": []
  }
 ],
 "metadata": {
  "kernelspec": {
   "display_name": "dev3",
   "language": "python",
   "name": "dev3"
  },
  "language_info": {
   "codemirror_mode": {
    "name": "ipython",
    "version": 3
   },
   "file_extension": ".py",
   "mimetype": "text/x-python",
   "name": "python",
   "nbconvert_exporter": "python",
   "pygments_lexer": "ipython3",
   "version": "3.6.9"
  }
 },
 "nbformat": 4,
 "nbformat_minor": 4
}
